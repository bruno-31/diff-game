{
 "cells": [
  {
   "cell_type": "code",
   "execution_count": 1,
   "metadata": {},
   "outputs": [
    {
     "name": "stdout",
     "output_type": "stream",
     "text": [
      "Populating the interactive namespace from numpy and matplotlib\n"
     ]
    },
    {
     "ename": "ImportError",
     "evalue": "No module named 'tensorflow.contrib.kfac'",
     "output_type": "error",
     "traceback": [
      "\u001b[0;31m---------------------------------------------------------------------------\u001b[0m",
      "\u001b[0;31mImportError\u001b[0m                               Traceback (most recent call last)",
      "\u001b[0;32m<ipython-input-1-417a145d9874>\u001b[0m in \u001b[0;36m<module>\u001b[0;34m()\u001b[0m\n\u001b[1;32m      4\u001b[0m \u001b[0;31m# import matplotlib.pyplot as plt\u001b[0m\u001b[0;34m\u001b[0m\u001b[0;34m\u001b[0m\u001b[0m\n\u001b[1;32m      5\u001b[0m \u001b[0;32mfrom\u001b[0m \u001b[0mtqdm\u001b[0m \u001b[0;32mimport\u001b[0m \u001b[0mtqdm\u001b[0m\u001b[0;34m\u001b[0m\u001b[0m\n\u001b[0;32m----> 6\u001b[0;31m \u001b[0;32mfrom\u001b[0m \u001b[0mtensorflow\u001b[0m\u001b[0;34m.\u001b[0m\u001b[0mcontrib\u001b[0m\u001b[0;34m.\u001b[0m\u001b[0mkfac\u001b[0m\u001b[0;34m.\u001b[0m\u001b[0mpython\u001b[0m\u001b[0;34m.\u001b[0m\u001b[0mops\u001b[0m\u001b[0;34m.\u001b[0m\u001b[0mutils\u001b[0m \u001b[0;32mimport\u001b[0m \u001b[0mfwd_gradients\u001b[0m\u001b[0;34m\u001b[0m\u001b[0m\n\u001b[0m\u001b[1;32m      7\u001b[0m \u001b[0;32mimport\u001b[0m \u001b[0mseaborn\u001b[0m \u001b[0;32mas\u001b[0m \u001b[0msns\u001b[0m\u001b[0;34m\u001b[0m\u001b[0m\n\u001b[1;32m      8\u001b[0m \u001b[0;34m\u001b[0m\u001b[0m\n",
      "\u001b[0;31mImportError\u001b[0m: No module named 'tensorflow.contrib.kfac'"
     ]
    }
   ],
   "source": [
    "% pylab inline\n",
    "import tensorflow as tf\n",
    "import numpy as np\n",
    "# import matplotlib.pyplot as plt\n",
    "from tqdm import tqdm\n",
    "from tensorflow.contrib.kfac.python.ops.utils import fwd_gradients\n",
    "import seaborn as sns\n",
    "\n",
    "slim = tf.contrib.slim\n",
    "ds = tf.contrib.distributions"
   ]
  },
  {
   "cell_type": "code",
   "execution_count": 2,
   "metadata": {},
   "outputs": [
    {
     "name": "stdout",
     "output_type": "stream",
     "text": [
      "1.1.0\n"
     ]
    }
   ],
   "source": [
    "print(tf.__version__)"
   ]
  },
  {
   "cell_type": "markdown",
   "metadata": {},
   "source": [
    "\n",
    "### Generator and discriminator architectures\n",
    "\n",
    "(same architecture as proposed in google brain paper)\n"
   ]
  },
  {
   "cell_type": "code",
   "execution_count": 3,
   "metadata": {
    "collapsed": true
   },
   "outputs": [],
   "source": [
    "def generator(z, output_dim=2, n_hidden=384, n_layer=6):\n",
    "    with tf.variable_scope(\"generator\"):\n",
    "        h = slim.stack(z, slim.fully_connected, [n_hidden] * n_layer, activation_fn=tf.nn.relu)\n",
    "        x = slim.fully_connected(h, output_dim, activation_fn=None)\n",
    "    return x\n",
    "\n",
    "def discriminator(x, n_hidden=384, n_layer=6, reuse=False):\n",
    "    with tf.variable_scope(\"discriminator\", reuse=reuse):\n",
    "        h = slim.stack(x, slim.fully_connected, [n_hidden] * n_layer, activation_fn=tf.nn.relu)\n",
    "        log_d = slim.fully_connected(h, 1, activation_fn=None)\n",
    "    return log_d"
   ]
  },
  {
   "cell_type": "markdown",
   "metadata": {},
   "source": [
    "### Data creation"
   ]
  },
  {
   "cell_type": "code",
   "execution_count": 4,
   "metadata": {
    "collapsed": true
   },
   "outputs": [],
   "source": [
    "def sample_mog(batch_size, n_mixture=16, std=0.2):\n",
    "    x = np.linspace(-4.5,4.5,4)\n",
    "    xs, ys = np.meshgrid(x, x)\n",
    "    xs, ys = xs.flatten(), ys.flatten()\n",
    "    cat = ds.Categorical(tf.zeros(n_mixture))\n",
    "    comps = [ds.MultivariateNormalDiag([xi, yi], [std, std]) for xi, yi in zip(xs.ravel(), ys.ravel())]\n",
    "    data = ds.Mixture(cat, comps)\n",
    "    return data.sample(batch_size)"
   ]
  },
  {
   "cell_type": "markdown",
   "metadata": {},
   "source": [
    "### Hyperparam"
   ]
  },
  {
   "cell_type": "code",
   "execution_count": 5,
   "metadata": {
    "collapsed": true
   },
   "outputs": [],
   "source": [
    "params = dict(\n",
    "    batch_size=512,\n",
    "    disc_learning_rate=1e-4,\n",
    "    gen_learning_rate=1e-4,\n",
    "    beta1=0.5,\n",
    "    epsilon=1e-8,\n",
    "    max_iter=8000,\n",
    "    viz_every=2000,\n",
    "    z_dim=256,\n",
    "    x_dim=2,\n",
    "    optimizer='sga', # rmsprop sgd sga\n",
    "    align = True,\n",
    ")"
   ]
  },
  {
   "cell_type": "markdown",
   "metadata": {},
   "source": [
    "## Function for Symplectic gradient adjustment"
   ]
  },
  {
   "cell_type": "code",
   "execution_count": 6,
   "metadata": {
    "collapsed": true
   },
   "outputs": [],
   "source": [
    "def jac_vec(ys,xs,vs):\n",
    "    return fwd_gradients(ys,xs,grad_xs=vs, stop_gradients=xs)\n",
    "\n",
    "def jac_tran_vec(ys,xs,vs):\n",
    "    dydxs = tf.gradients(ys,xs,grad_ys=vs, stop_gradients=xs)\n",
    "    return [tf.zeros_like(x) if dydx is None else dydx for (x,dydx) in zip(xs,dydxs)]\n",
    "\n",
    "def get_sym_adj(Ls,xs):\n",
    "    xi= [tf.gradients(l,x)[0]for(l,x)in zip(Ls,xs)]\n",
    "    H_xi = jac_vec(xi,xs,xi)\n",
    "    Ht_xi = jac_tran_vec(xi,xs,xi)\n",
    "    At_xi =[(ht-h)/2 for (h,ht) in zip(H_xi,Ht_xi)]\n",
    "    return At_xi"
   ]
  },
  {
   "cell_type": "markdown",
   "metadata": {},
   "source": [
    "## Construct model and training ops"
   ]
  },
  {
   "cell_type": "code",
   "execution_count": 23,
   "metadata": {},
   "outputs": [
    {
     "name": "stdout",
     "output_type": "stream",
     "text": [
      "[<tf.Tensor 'gradients_33/AddN_57:0' shape=(2, 384) dtype=float32>, <tf.Tensor 'gradients_33/AddN_56:0' shape=(384,) dtype=float32>, <tf.Tensor 'gradients_33/AddN_55:0' shape=(384, 384) dtype=float32>, <tf.Tensor 'gradients_33/AddN_52:0' shape=(384,) dtype=float32>, <tf.Tensor 'gradients_33/AddN_51:0' shape=(384, 384) dtype=float32>, <tf.Tensor 'gradients_33/AddN_48:0' shape=(384,) dtype=float32>, <tf.Tensor 'gradients_33/AddN_47:0' shape=(384, 384) dtype=float32>, <tf.Tensor 'gradients_33/AddN_44:0' shape=(384,) dtype=float32>, <tf.Tensor 'gradients_33/AddN_43:0' shape=(384, 384) dtype=float32>, <tf.Tensor 'gradients_33/AddN_40:0' shape=(384,) dtype=float32>, <tf.Tensor 'gradients_33/AddN_39:0' shape=(384, 384) dtype=float32>, <tf.Tensor 'gradients_33/AddN_36:0' shape=(384,) dtype=float32>, <tf.Tensor 'gradients_33/AddN_35:0' shape=(384, 1) dtype=float32>, <tf.Tensor 'gradients_33/AddN_32:0' shape=(1,) dtype=float32>, <tf.Tensor 'gradients_34/generator/Stack/fully_connected_1/MatMul_grad/tuple/control_dependency_1:0' shape=(256, 384) dtype=float32>, <tf.Tensor 'gradients_34/generator/Stack/fully_connected_1/BiasAdd_grad/tuple/control_dependency_1:0' shape=(384,) dtype=float32>, <tf.Tensor 'gradients_34/AddN_33:0' shape=(384, 384) dtype=float32>, <tf.Tensor 'gradients_34/generator/Stack/fully_connected_2/BiasAdd_grad/tuple/control_dependency_1:0' shape=(384,) dtype=float32>, <tf.Tensor 'gradients_34/AddN_31:0' shape=(384, 384) dtype=float32>, <tf.Tensor 'gradients_34/generator/Stack/fully_connected_3/BiasAdd_grad/tuple/control_dependency_1:0' shape=(384,) dtype=float32>, <tf.Tensor 'gradients_34/AddN_29:0' shape=(384, 384) dtype=float32>, <tf.Tensor 'gradients_34/generator/Stack/fully_connected_4/BiasAdd_grad/tuple/control_dependency_1:0' shape=(384,) dtype=float32>, <tf.Tensor 'gradients_34/AddN_27:0' shape=(384, 384) dtype=float32>, <tf.Tensor 'gradients_34/generator/Stack/fully_connected_5/BiasAdd_grad/tuple/control_dependency_1:0' shape=(384,) dtype=float32>, <tf.Tensor 'gradients_34/AddN_25:0' shape=(384, 384) dtype=float32>, <tf.Tensor 'gradients_34/generator/Stack/fully_connected_6/BiasAdd_grad/tuple/control_dependency_1:0' shape=(384,) dtype=float32>, <tf.Tensor 'gradients_34/AddN_23:0' shape=(384, 2) dtype=float32>, <tf.Tensor 'gradients_34/generator/fully_connected/BiasAdd_grad/tuple/control_dependency_1:0' shape=(2,) dtype=float32>]\n",
      "fc\n",
      "[<tf.Tensor 'gradients/AddN_15:0' shape=(2, 384) dtype=float32>, <tf.Tensor 'gradients/AddN_14:0' shape=(384,) dtype=float32>, <tf.Tensor 'gradients/AddN_13:0' shape=(384, 384) dtype=float32>, <tf.Tensor 'gradients/AddN_12:0' shape=(384,) dtype=float32>, <tf.Tensor 'gradients/AddN_11:0' shape=(384, 384) dtype=float32>, <tf.Tensor 'gradients/AddN_10:0' shape=(384,) dtype=float32>, <tf.Tensor 'gradients/AddN_9:0' shape=(384, 384) dtype=float32>, <tf.Tensor 'gradients/AddN_8:0' shape=(384,) dtype=float32>, <tf.Tensor 'gradients/AddN_7:0' shape=(384, 384) dtype=float32>, <tf.Tensor 'gradients/AddN_6:0' shape=(384,) dtype=float32>, <tf.Tensor 'gradients/AddN_5:0' shape=(384, 384) dtype=float32>, <tf.Tensor 'gradients/AddN_4:0' shape=(384,) dtype=float32>, <tf.Tensor 'gradients/AddN_3:0' shape=(384, 1) dtype=float32>, <tf.Tensor 'gradients/AddN_2:0' shape=(1,) dtype=float32>, <tf.Tensor 'gradients_1/generator/Stack/fully_connected_1/MatMul_grad/tuple/control_dependency_1:0' shape=(256, 384) dtype=float32>, <tf.Tensor 'gradients_1/generator/Stack/fully_connected_1/BiasAdd_grad/tuple/control_dependency_1:0' shape=(384,) dtype=float32>, <tf.Tensor 'gradients_1/generator/Stack/fully_connected_2/MatMul_grad/tuple/control_dependency_1:0' shape=(384, 384) dtype=float32>, <tf.Tensor 'gradients_1/generator/Stack/fully_connected_2/BiasAdd_grad/tuple/control_dependency_1:0' shape=(384,) dtype=float32>, <tf.Tensor 'gradients_1/generator/Stack/fully_connected_3/MatMul_grad/tuple/control_dependency_1:0' shape=(384, 384) dtype=float32>, <tf.Tensor 'gradients_1/generator/Stack/fully_connected_3/BiasAdd_grad/tuple/control_dependency_1:0' shape=(384,) dtype=float32>, <tf.Tensor 'gradients_1/generator/Stack/fully_connected_4/MatMul_grad/tuple/control_dependency_1:0' shape=(384, 384) dtype=float32>, <tf.Tensor 'gradients_1/generator/Stack/fully_connected_4/BiasAdd_grad/tuple/control_dependency_1:0' shape=(384,) dtype=float32>, <tf.Tensor 'gradients_1/generator/Stack/fully_connected_5/MatMul_grad/tuple/control_dependency_1:0' shape=(384, 384) dtype=float32>, <tf.Tensor 'gradients_1/generator/Stack/fully_connected_5/BiasAdd_grad/tuple/control_dependency_1:0' shape=(384,) dtype=float32>, <tf.Tensor 'gradients_1/generator/Stack/fully_connected_6/MatMul_grad/tuple/control_dependency_1:0' shape=(384, 384) dtype=float32>, <tf.Tensor 'gradients_1/generator/Stack/fully_connected_6/BiasAdd_grad/tuple/control_dependency_1:0' shape=(384,) dtype=float32>, <tf.Tensor 'gradients_1/generator/fully_connected/MatMul_grad/tuple/control_dependency_1:0' shape=(384, 2) dtype=float32>, <tf.Tensor 'gradients_1/generator/fully_connected/BiasAdd_grad/tuple/control_dependency_1:0' shape=(2,) dtype=float32>]\n"
     ]
    }
   ],
   "source": [
    "tf.reset_default_graph()\n",
    "\n",
    "data = sample_mog(params['batch_size'])\n",
    "noise = ds.Normal(tf.zeros(params['z_dim']), tf.ones(params['z_dim'])).sample(params['batch_size'])\n",
    "\n",
    "# Construct generator and discriminator nets\n",
    "with slim.arg_scope([slim.fully_connected], weights_initializer=tf.orthogonal_initializer(gain=1.4)):\n",
    "    samples = generator(noise, output_dim=params['x_dim'])\n",
    "    real_score = discriminator(data)\n",
    "    fake_score = discriminator(samples, reuse=True)\n",
    "    \n",
    "# Saddle objective    \n",
    "loss = tf.reduce_mean(\n",
    "    tf.nn.sigmoid_cross_entropy_with_logits(logits=real_score, labels=tf.ones_like(real_score)) +\n",
    "    tf.nn.sigmoid_cross_entropy_with_logits(logits=fake_score, labels=tf.zeros_like(fake_score)))\n",
    "\n",
    "gen_vars = tf.get_collection(tf.GraphKeys.TRAINABLE_VARIABLES, \"generator\")\n",
    "disc_vars = tf.get_collection(tf.GraphKeys.TRAINABLE_VARIABLES, \"discriminator\")\n",
    "\n",
    "if params['optimizer'] == 'rmsprop':\n",
    "    d_train_opt = tf.train.RMSPropOptimizer(params['gen_learning_rate'])\n",
    "    d_train_opt = tf.train.RMSPropOptimizer(params['disc_learning_rate'])\n",
    "    d_train_op = d_train_opt.minimize(loss, var_list=disc_vars)\n",
    "    g_train_op = g_train_opt.minimize(-loss, var_list=gen_vars)\n",
    "    \n",
    "elif params['optimizer'] == 'sgd':    \n",
    "    d_train_opt = tf.train.GradientDescentOptimizer(params['gen_learning_rate'])\n",
    "    g_train_opt = tf.train.GradientDescentOptimizer(params['gen_learning_rate'])\n",
    "    d_train_op = d_train_opt.minimize(loss, var_list=disc_vars)\n",
    "    g_train_op = g_train_opt.minimize(-loss, var_list=gen_vars)\n",
    "    \n",
    "elif params['optimizer'] == 'sga': \n",
    "    d_opt = tf.train.RMSPropOptimizer(learning_rate=params['disc_learning_rate'])\n",
    "    g_opt = tf.train.RMSPropOptimizer(learning_rate=params['gen_learning_rate'])\n",
    "\n",
    "    dvs = d_opt.compute_gradients(loss, var_list=disc_vars)\n",
    "    gvs = g_opt.compute_gradients(-loss, var_list=gen_vars)\n",
    "\n",
    "    adj = get_sym_adj([loss]*len(disc_vars) + [-loss]*len(gen_vars),disc_vars+\n",
    "                      gen_vars)\n",
    "    d_adj= adj[:len(disc_vars)]\n",
    "    g_adj = adj[-len(gen_vars)::]\n",
    "\n",
    "    if params['align']:\n",
    "        xsi_d = [grad for (grad,var) in dvs]\n",
    "        sq_xsi_d = 0.5*tf.reduce_sum([tf.reduce_sum(tf.square(grad)) for grad in xsi_d])\n",
    "        grad_h_d = d_opt.compute_gradients(sq_xsi_d, var_list=disc_vars)\n",
    "        xsi_g = [grad for (grad,var) in gvs]\n",
    "        sq_xsi_g = 0.5*tf.reduce_sum([tf.reduce_sum(tf.square(grad)) for grad in xsi_g])\n",
    "        grad_h_g = g_opt.compute_gradients(sq_xsi_g, var_list=gen_vars)\n",
    "        \n",
    "        grad_h = grad_h_d + grad_h_g\n",
    "        grad_h = [grad for (grad,var) in grad_h]\n",
    "        xsi = xsi_d + xsi_g\n",
    "        d = len(xsi)\n",
    "\n",
    "        dot_xsi_grad_h = tf.reduce_sum([tf.reduce_sum(a*b) for a,b in zip(xsi,grad_h)])\n",
    "        dot_adj_grad_h = tf.reduce_sum([tf.reduce_sum(a*b) for a,b in zip(adj,grad_h)])\n",
    "        mul_dot = dot_xsi_grad_h*dot_adj_grad_h\n",
    "        \n",
    "        lambd = tf.sign(mul_dot/d + 1/10)\n",
    "    else:\n",
    "        lambd = tf.constant(1)\n",
    "        \n",
    "    dvs_sga = [(grad + lambd*adj , var) for (grad,var),adj in zip(dvs,d_adj)]\n",
    "    gvs_sga = [(grad + lambd*adj , var) for (grad,var),adj in zip(gvs,g_adj)]\n",
    "    \n",
    "    d_train_op = d_opt.apply_gradients(dvs_sga)\n",
    "    g_train_op = g_opt.apply_gradients(gvs_sga)"
   ]
  },
  {
   "cell_type": "markdown",
   "metadata": {},
   "source": [
    "## Train"
   ]
  },
  {
   "cell_type": "code",
   "execution_count": 24,
   "metadata": {
    "collapsed": true
   },
   "outputs": [],
   "source": [
    "sess = tf.InteractiveSession()\n",
    "sess.run(tf.global_variables_initializer())"
   ]
  },
  {
   "cell_type": "code",
   "execution_count": null,
   "metadata": {},
   "outputs": [
    {
     "name": "stderr",
     "output_type": "stream",
     "text": [
      "\r",
      "  0%|          | 0/8001 [00:00<?, ?it/s]"
     ]
    },
    {
     "data": {
      "image/png": "[encoded data removed]",
      "text/plain": [
       "<matplotlib.figure.Figure at 0x7fdace43c4e0>"
      ]
     },
     "metadata": {},
     "output_type": "display_data"
    },
    {
     "name": "stderr",
     "output_type": "stream",
     "text": [
      "  0%|          | 17/8001 [01:03<8:16:52,  3.73s/it]"
     ]
    }
   ],
   "source": [
    "xmax = 3\n",
    "fs = []\n",
    "frames = []\n",
    "np_samples = []\n",
    "n_batches_viz = 10\n",
    "viz_every = params['viz_every']\n",
    "for i in tqdm(range(params['max_iter']+1)):\n",
    "    f, _, _ = sess.run([[loss], g_train_op, d_train_op])\n",
    "    fs.append(f)\n",
    "    if (i) % viz_every == 0:\n",
    "        np_samples.append(np.vstack([sess.run(samples) for _ in range(n_batches_viz)]))\n",
    "        xx, yy = sess.run([samples, data])\n",
    "        fig = figure(figsize=(5,5))\n",
    "        scatter(xx[:, 0], xx[:, 1], edgecolor='none',s=10)\n",
    "        scatter(yy[:, 0], yy[:, 1], c='g', edgecolor='none',s=10)\n",
    "        axis('off')\n",
    "        show()"
   ]
  },
  {
   "cell_type": "code",
   "execution_count": 11,
   "metadata": {},
   "outputs": [
    {
     "name": "stderr",
     "output_type": "stream",
     "text": [
      "/home/bruno/anaconda3/lib/python3.6/site-packages/ipykernel_launcher.py:11: MatplotlibDeprecationWarning: The set_axis_bgcolor function was deprecated in version 2.0. Use set_facecolor instead.\n",
      "  # This is added back by InteractiveShellApp.init_path()\n"
     ]
    },
    {
     "data": {
      "image/png": "[encoded data removed]",
      "text/plain": [
       "<matplotlib.figure.Figure at 0x7f9995b0dcc0>"
      ]
     },
     "metadata": {},
     "output_type": "display_data"
    }
   ],
   "source": [
    "np_samples_ = np_samples[::1]\n",
    "cols = len(np_samples_)\n",
    "bg_color  = sns.color_palette('Greens', n_colors=256)[0]\n",
    "figure(figsize=(2*cols, 2))\n",
    "for i, samps in enumerate(np_samples_):\n",
    "    if i == 0:\n",
    "        ax = subplot(1,cols,1)\n",
    "    else:\n",
    "        subplot(1,cols,i+1, sharex=ax, sharey=ax)\n",
    "    ax2 = sns.kdeplot(samps[:, 0], samps[:, 1], shade=True, cmap='Greens', n_levels=20, clip=[[-6,6]]*2)\n",
    "    ax2.set_axis_bgcolor(bg_color)\n",
    "    xticks([]); yticks([])\n",
    "    title('step %d'%(i*viz_every))\n",
    "gcf().tight_layout()"
   ]
  },
  {
   "cell_type": "code",
   "execution_count": 10,
   "metadata": {
    "collapsed": true
   },
   "outputs": [],
   "source": [
    "import seaborn as sns\n"
   ]
  },
  {
   "cell_type": "code",
   "execution_count": null,
   "metadata": {
    "collapsed": true
   },
   "outputs": [],
   "source": []
  }
 ],
 "metadata": {
  "kernelspec": {
   "display_name": "Python 3",
   "language": "python",
   "name": "python3"
  },
  "language_info": {
   "codemirror_mode": {
    "name": "ipython",
    "version": 3
   },
   "file_extension": ".py",
   "mimetype": "text/x-python",
   "name": "python",
   "nbconvert_exporter": "python",
   "pygments_lexer": "ipython3",
   "version": "3.4.3"
  }
 },
 "nbformat": 4,
 "nbformat_minor": 2
}
