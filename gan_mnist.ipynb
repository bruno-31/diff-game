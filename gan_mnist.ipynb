{
 "cells": [
  {
   "cell_type": "code",
   "execution_count": 1,
   "metadata": {},
   "outputs": [
    {
     "name": "stderr",
     "output_type": "stream",
     "text": [
      "/home/bruno/anaconda3/envs/tensorflow-1.5/lib/python3.5/importlib/_bootstrap.py:222: RuntimeWarning: numpy.dtype size changed, may indicate binary incompatibility. Expected 96, got 88\n",
      "  return f(*args, **kwds)\n",
      "/home/bruno/anaconda3/envs/tensorflow-1.5/lib/python3.5/importlib/_bootstrap.py:222: RuntimeWarning: numpy.dtype size changed, may indicate binary incompatibility. Expected 96, got 88\n",
      "  return f(*args, **kwds)\n"
     ]
    },
    {
     "name": "stdout",
     "output_type": "stream",
     "text": [
      "Extracting MNIST_data/train-images-idx3-ubyte.gz\n",
      "Extracting MNIST_data/train-labels-idx1-ubyte.gz\n",
      "Extracting MNIST_data/t10k-images-idx3-ubyte.gz\n",
      "Extracting MNIST_data/t10k-labels-idx1-ubyte.gz\n"
     ]
    }
   ],
   "source": [
    "import tensorflow as tf\n",
    "import numpy as np\n",
    "# import matplotlib.pyplot as plt\n",
    "from tqdm import tqdm\n",
    "from tensorflow.contrib.kfac.python.ops.utils import fwd_gradients\n",
    "import seaborn as sns\n",
    "from utils import dense, deconv2d, conv2d, nin\n",
    "slim = tf.contrib.slim\n",
    "ds = tf.contrib.distributions\n",
    "\n",
    "from utils import show_digits\n",
    "from tensorflow.examples.tutorials.mnist import input_data\n",
    "mnist = input_data.read_data_sets(\"MNIST_data/\", one_hot=True)"
   ]
  },
  {
   "cell_type": "code",
   "execution_count": 2,
   "metadata": {},
   "outputs": [
    {
     "data": {
      "image/png": "[encoded data removed]",
      "text/plain": [
       "<Figure size 432x288 with 1 Axes>"
      ]
     },
     "metadata": {},
     "output_type": "display_data"
    }
   ],
   "source": [
    "def sample_mnist(batch_size):\n",
    "    return mnist.train.next_batch(batch_size=batch_size)[0]\n",
    "\n",
    "show_digits(sample_mnist(40))"
   ]
  },
  {
   "cell_type": "code",
   "execution_count": 5,
   "metadata": {},
   "outputs": [],
   "source": [
    "params = dict(\n",
    "    batch_size=512,\n",
    "    disc_learning_rate=1e-4,\n",
    "    gen_learning_rate=1e-4,\n",
    "    beta1=0.5,\n",
    "    epsilon=1e-8,\n",
    "    max_iter=8000,\n",
    "    viz_every=500,\n",
    "    z_dim=256,\n",
    "    x_dim=[28,28],\n",
    "    optimizer='ADAM', \n",
    "    output_dim=28*28\n",
    ")"
   ]
  },
  {
   "cell_type": "code",
   "execution_count": 7,
   "metadata": {},
   "outputs": [],
   "source": [
    "data = tf.placeholder(tf.float32, [params['batch_size'],28,28], name='unlabeled_data_input_pl')\n",
    "noise = ds.Normal(tf.zeros(params['z_dim']), tf.ones(params['z_dim'])).sample(params['batch_size'])"
   ]
  },
  {
   "cell_type": "code",
   "execution_count": 11,
   "metadata": {},
   "outputs": [],
   "source": [
    "init_kernel = tf.random_normal_initializer(mean=0, stddev=0.05)\n",
    "leakyReLu = tf.nn.leaky_relu"
   ]
  },
  {
   "cell_type": "code",
   "execution_count": 12,
   "metadata": {},
   "outputs": [],
   "source": [
    "def generator(z_seed, is_training, init=False,reuse=False):\n",
    "    with tf.variable_scope('generator_model', reuse=reuse):\n",
    "        x = z_seed\n",
    "        with tf.variable_scope('dense_1'):\n",
    "            x = tf.layers.dense(x, units=4 * 4 * 512, kernel_initializer=init_kernel)\n",
    "            x = tf.layers.batch_normalization(x, training=is_training, name='batchnorm_1')\n",
    "            x = tf.nn.relu(x)\n",
    "\n",
    "        x = tf.reshape(x, [-1, 4, 4, 512])\n",
    "\n",
    "        with tf.variable_scope('deconv_1'):\n",
    "            x = tf.layers.conv2d_transpose(x, 256, [5, 5], strides=[2, 2], padding='SAME', kernel_initializer=init_kernel)\n",
    "            x = tf.layers.batch_normalization(x, training=is_training, name='batchnorm_2')\n",
    "            x = tf.nn.relu(x)\n",
    "\n",
    "        with tf.variable_scope('deconv_2'):\n",
    "            x = tf.layers.conv2d_transpose(x, 128, [5, 5], strides=[2, 2], padding='SAME', kernel_initializer=init_kernel)\n",
    "            x = tf.layers.batch_normalization(x, training=is_training, name='batchnormn_3')\n",
    "            x = tf.nn.relu(x)\n",
    "\n",
    "        with tf.variable_scope('deconv_3'):\n",
    "            output = nn.deconv2d(x, num_filters=3, filter_size=[5, 5], stride=[2, 2], nonlinearity=tf.tanh, init=init,\n",
    "                                 counters=counter, init_scale=0.1)\n",
    "        print(output)\n",
    "        return output"
   ]
  },
  {
   "cell_type": "code",
   "execution_count": 14,
   "metadata": {},
   "outputs": [],
   "source": [
    "def discriminator(inp, is_training, init=False, reuse=False, getter =None):\n",
    "    with tf.variable_scope('discriminator_model', reuse=reuse,custom_getter=getter):\n",
    "        counter = {}\n",
    "        x = tf.reshape(inp, [-1, 32, 32, 3])\n",
    "\n",
    "        x = tf.layers.dropout(x, rate=0.2, training=is_training, name='dropout_0')\n",
    "\n",
    "        x = nn.conv2d(x, 64, nonlinearity=leakyReLu, init=init, counters=counter)\n",
    "        x = nn.conv2d(x, 64, nonlinearity=leakyReLu, init=init, counters=counter)\n",
    "        x = nn.conv2d(x, 64, stride=[2, 2], nonlinearity=leakyReLu, init=init, counters=counter)\n",
    "\n",
    "        x = tf.layers.dropout(x, rate=0.5, training=is_training, name='dropout_1')\n",
    "\n",
    "        x = nn.conv2d(x, 128, nonlinearity=leakyReLu, init=init, counters=counter)\n",
    "        x = nn.conv2d(x, 128, nonlinearity=leakyReLu, init=init, counters=counter)\n",
    "        x = nn.conv2d(x, 128, stride=[2, 2], nonlinearity=leakyReLu, init=init, counters=counter)\n",
    "\n",
    "        x = tf.layers.dropout(x, rate=0.5, training=is_training, name='dropout_2')\n",
    "\n",
    "        x = nn.conv2d(x, 128, pad='VALID', nonlinearity=leakyReLu, init=init, counters=counter)\n",
    "        x = nn.nin(x, 128, counters=counter, nonlinearity=leakyReLu, init=init)\n",
    "        x = nn.nin(x, 128, counters=counter, nonlinearity=leakyReLu, init=init)\n",
    "        print(x)\n",
    "        x = tf.layers.max_pooling2d(x, pool_size=6, strides=1,\n",
    "                                    name='avg_pool_0')\n",
    "        x = tf.squeeze(x, [1, 2])\n",
    "\n",
    "        logits = nn.dense(x, 10, nonlinearity=None, init=init, counters=counter, init_scale=0.1)\n",
    "        print(logits)\n",
    "        return logits"
   ]
  },
  {
   "cell_type": "code",
   "execution_count": null,
   "metadata": {},
   "outputs": [],
   "source": [
    "\n",
    "# Construct generator and discriminator nets\n",
    "_ = generator(noise,)\n",
    "samples = generator(noise, output_dim=params['x_dim'])\n",
    "real_score = discriminator(data)\n",
    "fake_score = discriminator(samples, reuse=True)\n",
    "    \n",
    "# Saddle objective    \n",
    "loss = tf.reduce_mean(\n",
    "    tf.nn.sigmoid_cross_entropy_with_logits(logits=real_score, labels=tf.ones_like(real_score)) +\n",
    "    tf.nn.sigmoid_cross_entropy_with_logits(logits=fake_score, labels=tf.zeros_like(fake_score)))\n",
    "\n",
    "gen_vars = tf.get_collection(tf.GraphKeys.TRAINABLE_VARIABLES, \"generator\")\n",
    "disc_vars = tf.get_collection(tf.GraphKeys.TRAINABLE_VARIABLES, \"discriminator\")"
   ]
  }
 ],
 "metadata": {
  "kernelspec": {
   "display_name": "Python [conda env:tensorflow-1.5]",
   "language": "python",
   "name": "conda-env-tensorflow-1.5-py"
  },
  "language_info": {
   "codemirror_mode": {
    "name": "ipython",
    "version": 3
   },
   "file_extension": ".py",
   "mimetype": "text/x-python",
   "name": "python",
   "nbconvert_exporter": "python",
   "pygments_lexer": "ipython3",
   "version": "3.5.5"
  }
 },
 "nbformat": 4,
 "nbformat_minor": 2
}
