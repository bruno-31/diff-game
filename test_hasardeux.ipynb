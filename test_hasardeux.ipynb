{
 "cells": [
  {
   "cell_type": "code",
   "execution_count": 2,
   "metadata": {},
   "outputs": [],
   "source": [
    "import numpy as np\n",
    "import matplotlib.pyplot as plt\n",
    "import seaborn as sns\n",
    "from sklearn.metrics import mutual_info_score\n",
    "from sklearn.neighbors import NearestNeighbors, ball_tree, BallTree\n",
    "import time\n",
    "from scipy.special import psi\n",
    "import numpy as np\n",
    "from universal_divergence import estimate\n"
   ]
  },
  {
   "cell_type": "code",
   "execution_count": 8,
   "metadata": {},
   "outputs": [],
   "source": [
    "def kl_psi(x,y):\n",
    "    n = len(x)\n",
    "    m = len(y)\n",
    "    nbrs = NearestNeighbors(n_neighbors=2, algorithm='ball_tree').fit(x)\n",
    "    rau, _ = nbrs.kneighbors(x)\n",
    "    nbrs = NearestNeighbors(n_neighbors=1, algorithm='ball_tree').fit(y)\n",
    "    nu, _ = nbrs.kneighbors(x)\n",
    "    rau =rau[:,1]\n",
    "    nu = nu[:,0]\n",
    "    \n",
    "    epsilon = np.max(np.stack([rau,nu]),axis=0)\n",
    "    # cd de voisins X (Y) pour chaque x(i) dans la boule epsilon(i)\n",
    "\n",
    "    tree = BallTree(x, leaf_size=2)     \n",
    "    l = tree.query_radius(x, r=epsilon, count_only=True)\n",
    "\n",
    "    tree = BallTree(y, leaf_size=2)     \n",
    "    k = tree.query_radius(x, r=epsilon, count_only=True)\n",
    "\n",
    "    k[k==0]=1\n",
    "    \n",
    "    kl = 2*(1/n)*sum(np.log(nu)/np.log(rau)) + np.log(m/(n-1))+np.mean(psi(l)-psi(k))\n",
    "    return kl"
   ]
  },
  {
   "cell_type": "code",
   "execution_count": 34,
   "metadata": {},
   "outputs": [
    {
     "data": {
      "text/plain": [
       "2.0874227041857467"
      ]
     },
     "execution_count": 34,
     "metadata": {},
     "output_type": "execute_result"
    }
   ],
   "source": [
    "n = len(x)\n",
    "m = len(y)\n",
    "tree = BallTree(x, leaf_size=2)              \n",
    "dist, ind = tree.query(x, k=2)\n",
    "ro = dist[:,1]\n",
    "tree = BallTree(y, leaf_size=2)              \n",
    "nu, ind = tree.query(x, k=1)\n",
    "nu=nu[:,0]\n",
    "kl = 2*(1/n)*sum(np.log(nu)/np.log(ro)) + np.log(m/(n-1))\n",
    "kl\n"
   ]
  },
  {
   "cell_type": "code",
   "execution_count": 33,
   "metadata": {},
   "outputs": [
    {
     "data": {
      "text/plain": [
       "(5000,)"
      ]
     },
     "execution_count": 33,
     "metadata": {},
     "output_type": "execute_result"
    }
   ],
   "source": [
    "nu[:,0].shape"
   ]
  },
  {
   "cell_type": "code",
   "execution_count": null,
   "metadata": {},
   "outputs": [],
   "source": []
  },
  {
   "cell_type": "code",
   "execution_count": null,
   "metadata": {},
   "outputs": [],
   "source": [
    "JSD = 0.5*kl_psi(x,m)+kl_psi(x_m)"
   ]
  },
  {
   "cell_type": "code",
   "execution_count": 15,
   "metadata": {},
   "outputs": [
    {
     "name": "stdout",
     "output_type": "stream",
     "text": [
      "0.010083882175194998\n",
      "6.2723083279698155\n"
     ]
    }
   ],
   "source": [
    "mean = [0, 0]\n",
    "cov = [[1, 0], [0, 10]]\n",
    "x = np.random.multivariate_normal(mean, cov, 5000)\n",
    "y = np.random.multivariate_normal(mean, cov, 5000)\n",
    "print(estimate(x, y,k=3))  # will be close to 0.0\n",
    "\n",
    "mean2 = [10, 0]\n",
    "cov2 = [[5, 0], [0, 5]]\n",
    "z = np.random.multivariate_normal(mean2, cov2, 1000)\n",
    "print(estimate(x, z,k=3))  # will be bigger than 0.0"
   ]
  },
  {
   "cell_type": "code",
   "execution_count": 36,
   "metadata": {},
   "outputs": [
    {
     "data": {
      "text/plain": [
       "0.008828997012218698"
      ]
     },
     "execution_count": 36,
     "metadata": {},
     "output_type": "execute_result"
    }
   ],
   "source": [
    "estimate(x, y,k=3)"
   ]
  },
  {
   "cell_type": "code",
   "execution_count": 12,
   "metadata": {},
   "outputs": [
    {
     "name": "stdout",
     "output_type": "stream",
     "text": [
      "2.8022839853243093\n",
      "5.302964029824913\n"
     ]
    }
   ],
   "source": [
    "mean = [0, 0]\n",
    "cov = [[1, 0], [0, 10]]\n",
    "x = np.random.multivariate_normal(mean, cov, 1000)\n",
    "y = np.random.multivariate_normal(mean, cov, 1000)\n",
    "print(kl_psi(x,y))\n",
    "\n",
    "mean2 = [10, 0]\n",
    "cov2 = [[5, 0], [0, 5]]\n",
    "z = np.random.multivariate_normal(mean2, cov2, 1000)\n",
    "print(kl_psi(x,z))\n"
   ]
  },
  {
   "cell_type": "code",
   "execution_count": 189,
   "metadata": {},
   "outputs": [],
   "source": [
    "begin = time.time()\n",
    "n = len(x)\n",
    "m = len(y)\n",
    "nbrs = NearestNeighbors(n_neighbors=2, algorithm='brute').fit(x)\n",
    "rau, _ = nbrs.kneighbors(x)\n",
    "nbrs = NearestNeighbors(n_neighbors=1, algorithm='brute').fit(y)\n",
    "nu, _ = nbrs.kneighbors(x)\n",
    "rau =rau[:,1]\n",
    "nu = nu[:,0]\n",
    "kl = 2*(1/n)*sum(np.log(nu)/np.log(rau)) + np.log(m/(n-1))\n"
   ]
  },
  {
   "cell_type": "code",
   "execution_count": 190,
   "metadata": {},
   "outputs": [],
   "source": [
    "epsilon = np.max(np.stack([rau,nu]),axis=0)\n",
    "# cd de voisins X (Y) pour chaque x(i) dans la boule epsilon(i)\n",
    "\n",
    "tree = BallTree(x, leaf_size=2)     \n",
    "l = tree.query_radius(x, r=epsilon, count_only=True)\n",
    "\n",
    "tree = BallTree(y, leaf_size=2)     \n",
    "k = tree.query_radius(x, r=epsilon, count_only=True)\n",
    "\n",
    "k[k==0]=1\n"
   ]
  },
  {
   "cell_type": "code",
   "execution_count": 191,
   "metadata": {},
   "outputs": [],
   "source": [
    "kl = 2*(1/n)*sum(np.log(nu)/np.log(rau)) + np.log(m/(n-1))+np.mean(psi(l)-psi(k))\n"
   ]
  },
  {
   "cell_type": "code",
   "execution_count": 193,
   "metadata": {},
   "outputs": [],
   "source": []
  },
  {
   "cell_type": "code",
   "execution_count": 198,
   "metadata": {},
   "outputs": [
    {
     "data": {
      "text/plain": [
       "7.049245327380758"
      ]
     },
     "execution_count": 198,
     "metadata": {},
     "output_type": "execute_result"
    }
   ],
   "source": [
    "kl_psi(x,y)"
   ]
  },
  {
   "cell_type": "code",
   "execution_count": null,
   "metadata": {},
   "outputs": [],
   "source": [
    ">>> import numpy as np\n",
    ">>> np.random.seed(0)\n",
    ">>> X = np.random.random((10, 3))  # 10 points in 3 dimensions\n",
    ">>> tree = BallTree(X, leaf_size=2)     \n",
    ">>> print(tree.query_radius(X[0], r=0.3, count_only=True))\n",
    "3\n",
    ">>> ind = tree.query_radius(X[0], r=0.3)  \n",
    ">>> print(ind)  # indices of neighbors within distance 0.3\n",
    "[3 0 1]"
   ]
  },
  {
   "cell_type": "code",
   "execution_count": 158,
   "metadata": {},
   "outputs": [],
   "source": []
  },
  {
   "cell_type": "code",
   "execution_count": 159,
   "metadata": {
    "collapsed": true
   },
   "outputs": [
    {
     "data": {
      "text/plain": [
       "array([2, 1, 1, 2, 1, 2, 2, 2, 2, 3, 2, 2, 2, 2, 1, 2, 2, 2, 2, 2, 1, 2,\n",
       "       2, 2, 2, 2, 1, 1, 1, 2, 2, 2, 2, 1, 1, 1, 2, 1, 1, 2, 1, 2, 2, 2,\n",
       "       1, 2, 1, 1, 1, 1, 1, 1, 2, 2, 1, 1, 2, 2, 1, 2, 1, 1, 1, 1, 1, 2,\n",
       "       2, 1, 1, 1, 1, 1, 2, 1, 1, 2, 1, 1, 1, 2, 1, 1, 2, 1, 2, 2, 1, 2,\n",
       "       1, 2, 2, 2, 1, 2, 1, 2, 1, 2, 2, 2, 2, 2, 2, 3, 2, 1, 2, 2, 2, 2,\n",
       "       2, 4, 1, 2, 1, 2, 1, 1, 1, 2, 1, 1, 1, 2, 2, 2, 2, 2, 2, 1, 1, 1,\n",
       "       2, 1, 2, 1, 2, 1, 1, 2, 2, 2, 1, 2, 1, 2, 1, 1, 1, 1, 1, 1, 1, 1,\n",
       "       2, 2, 1, 1, 1, 1, 1, 2, 2, 2, 1, 2, 2, 1, 2, 3, 2, 2, 1, 2, 1, 2,\n",
       "       2, 2, 2, 2, 2, 1, 2, 2, 1, 2, 4, 2, 1, 2, 1, 2, 1, 2, 1, 2, 1, 1,\n",
       "       1, 2, 2, 2, 2, 2, 2, 2, 1, 1, 1, 2, 1, 1, 2, 1, 2, 2, 1, 1, 2, 1,\n",
       "       1, 2, 2, 2, 1, 2, 1, 2, 1, 1, 1, 2, 1, 1, 1, 1, 1, 1, 2, 2, 1, 1,\n",
       "       1, 2, 2, 2, 1, 1, 1, 1, 1, 2, 1, 2, 2, 2, 2, 2, 2, 1, 2, 1, 1, 1,\n",
       "       2, 1, 3, 2, 1, 2, 1, 2, 2, 1, 2, 2, 1, 1, 1, 1, 2, 2, 2, 2, 2, 2,\n",
       "       1, 1, 2, 1, 1, 1, 2, 2, 1, 3, 2, 2, 1, 2, 2, 2, 1, 2, 1, 1, 2, 1,\n",
       "       1, 1, 1, 2, 2, 1, 2, 1, 2, 1, 3, 3, 2, 1, 1, 2, 2, 2, 2, 1, 2, 1,\n",
       "       1, 2, 2, 1, 2, 2, 2, 1, 1, 1, 2, 2, 2, 2, 1, 2, 2, 2, 2, 2, 1, 2,\n",
       "       1, 1, 2, 1, 3, 2, 1, 1, 1, 1, 2, 2, 2, 2, 2, 1, 2, 2, 2, 2, 2, 2,\n",
       "       1, 2, 1, 2, 1, 1, 1, 2, 1, 3, 1, 1, 2, 1, 2, 1, 4, 2, 2, 1, 1, 2,\n",
       "       2, 1, 2, 1, 2, 1, 2, 1, 2, 1, 1, 2, 2, 2, 2, 2, 1, 2, 2, 2, 2, 1,\n",
       "       1, 2, 2, 2, 1, 2, 2, 2, 2, 2, 3, 1, 3, 1, 1, 1, 2, 1, 1, 2, 2, 1,\n",
       "       2, 2, 2, 2, 1, 2, 2, 1, 2, 2, 2, 1, 1, 1, 1, 1, 1, 1, 2, 2, 2, 2,\n",
       "       2, 1, 2, 1, 2, 2, 1, 2, 2, 2, 1, 1, 1, 1, 1, 2, 2, 2, 1, 1, 1, 2,\n",
       "       2, 2, 2, 2, 2, 1, 1, 1, 3, 2, 2, 2, 2, 1, 1, 1, 2, 2, 2, 1, 2, 2,\n",
       "       2, 2, 1, 1, 3, 1, 2, 2, 1, 1, 2, 1, 2, 2, 1, 1, 2, 2, 2, 2, 2, 2,\n",
       "       1, 1, 2, 2, 2, 1, 2, 1, 2, 2, 2, 2, 1, 2, 2, 1, 2, 2, 2, 1, 1, 2,\n",
       "       2, 3, 1, 2, 1, 1, 2, 2, 1, 1, 2, 1, 1, 1, 1, 1, 1, 1, 1, 2, 2, 1,\n",
       "       1, 2, 2, 1, 2, 2, 1, 2, 2, 2, 2, 2, 2, 1, 1, 1, 2, 1, 2, 1, 2, 3,\n",
       "       2, 1, 2, 2, 2, 2, 2, 2, 2, 2, 1, 2, 1, 1, 2, 3, 2, 2, 2, 2, 2, 1,\n",
       "       2, 2, 2, 2, 1, 2, 1, 2, 2, 2, 2, 1, 1, 2, 1, 2, 2, 1, 1, 2, 2, 1,\n",
       "       2, 2, 1, 1, 2, 2, 2, 1, 1, 2, 2, 2, 2, 2, 2, 2, 1, 1, 1, 1, 2, 1,\n",
       "       1, 2, 2, 1, 2, 1, 2, 2, 1, 2, 1, 2, 3, 1, 2, 2, 2, 2, 1, 1, 2, 2,\n",
       "       1, 2, 2, 2, 2, 1, 2, 1, 2, 2, 1, 1, 1, 2, 2, 2, 2, 2, 1, 1, 1, 2,\n",
       "       2, 2, 1, 1, 2, 2, 2, 2, 1, 2, 1, 1, 3, 1, 1, 1, 1, 1, 2, 2, 2, 2,\n",
       "       1, 2, 4, 1, 1, 2, 3, 2, 2, 2, 2, 3, 2, 1, 1, 1, 2, 1, 2, 1, 1, 1,\n",
       "       2, 2, 2, 1, 1, 1, 1, 2, 1, 2, 1, 1, 1, 1, 1, 1, 2, 2, 2, 2, 1, 2,\n",
       "       1, 1, 2, 1, 1, 1, 1, 2, 1, 1, 1, 1, 1, 2, 2, 2, 2, 2, 2, 2, 1, 1,\n",
       "       2, 1, 2, 2, 2, 1, 1, 2, 1, 2, 2, 2, 1, 2, 1, 1, 1, 1, 2, 2, 1, 1,\n",
       "       1, 2, 2, 2, 3, 2, 1, 2, 1, 1, 2, 1, 2, 2, 1, 2, 1, 1, 2, 2, 2, 3,\n",
       "       2, 2, 2, 2, 5, 2, 1, 2, 2, 1, 1, 1, 1, 2, 2, 2, 1, 2, 1, 2, 1, 1,\n",
       "       1, 1, 1, 3, 1, 1, 2, 1, 1, 1, 1, 2, 2, 2, 2, 2, 1, 1, 1, 2, 1, 2,\n",
       "       2, 2, 2, 1, 1, 2, 1, 1, 1, 1, 2, 1, 2, 2, 1, 2, 2, 2, 2, 1, 2, 1,\n",
       "       2, 1, 1, 2, 1, 2, 2, 1, 1, 1, 2, 3, 2, 1, 2, 1, 2, 2, 2, 2, 1, 2,\n",
       "       2, 4, 2, 2, 1, 2, 1, 1, 1, 2, 2, 2, 2, 2, 2, 2, 1, 2, 2, 2, 1, 1,\n",
       "       2, 1, 2, 2, 2, 2, 1, 1, 2, 1, 1, 2, 2, 2, 1, 2, 2, 2, 2, 2, 1, 2,\n",
       "       1, 2, 2, 2, 1, 1, 2, 2, 1, 2, 1, 2, 1, 2, 1, 2, 1, 2, 2, 1, 2, 1,\n",
       "       1, 2, 2, 2, 1, 1, 1, 2, 2, 2])"
      ]
     },
     "execution_count": 159,
     "metadata": {},
     "output_type": "execute_result"
    }
   ],
   "source": []
  },
  {
   "cell_type": "code",
   "execution_count": 149,
   "metadata": {},
   "outputs": [
    {
     "data": {
      "text/plain": [
       "(1000, 2)"
      ]
     },
     "execution_count": 149,
     "metadata": {},
     "output_type": "execute_result"
    }
   ],
   "source": [
    "x.shape"
   ]
  },
  {
   "cell_type": "code",
   "execution_count": 94,
   "metadata": {},
   "outputs": [
    {
     "data": {
      "text/plain": [
       "1.081731627958029"
      ]
     },
     "execution_count": 94,
     "metadata": {},
     "output_type": "execute_result"
    }
   ],
   "source": [
    "np.mean(np.divide(np.log(nu),np.log(rau)))"
   ]
  },
  {
   "cell_type": "code",
   "execution_count": 95,
   "metadata": {},
   "outputs": [
    {
     "data": {
      "text/plain": [
       "0.00020002000266702272"
      ]
     },
     "execution_count": 95,
     "metadata": {},
     "output_type": "execute_result"
    }
   ],
   "source": [
    "np.log(m/(n-1))"
   ]
  },
  {
   "cell_type": "code",
   "execution_count": 96,
   "metadata": {},
   "outputs": [
    {
     "data": {
      "text/plain": [
       "1.0002000400080016"
      ]
     },
     "execution_count": 96,
     "metadata": {},
     "output_type": "execute_result"
    }
   ],
   "source": [
    "m/(n-1)"
   ]
  },
  {
   "cell_type": "code",
   "execution_count": 103,
   "metadata": {},
   "outputs": [],
   "source": [
    "def kl_divergence(x,y):\n",
    "    n = len(x)\n",
    "    m = len(y)\n",
    "    nbrs = NearestNeighbors(n_neighbors=2, algorithm='ball_tree').fit(x)\n",
    "    rau, _ = nbrs.kneighbors(x)\n",
    "    nbrs = NearestNeighbors(n_neighbors=1, algorithm='ball_tree').fit(y)\n",
    "    nu, _ = nbrs.kneighbors(x)\n",
    "    rau =rau[:,1]\n",
    "    kl = 2*np.mean(np.divide(np.log(nu),np.log(rau))) + np.log(m/(n-1))\n",
    "    return kl"
   ]
  },
  {
   "cell_type": "code",
   "execution_count": 104,
   "metadata": {},
   "outputs": [
    {
     "name": "stdout",
     "output_type": "stream",
     "text": [
      "estimated kl: -0.3677980176329604      time: 1.3869824409484863\n"
     ]
    }
   ],
   "source": [
    "begin = time.time()\n",
    "print('estimated kl:', kl_divergence(x,z) , '     time:', time.time()-begin)"
   ]
  },
  {
   "cell_type": "code",
   "execution_count": 122,
   "metadata": {},
   "outputs": [
    {
     "name": "stdout",
     "output_type": "stream",
     "text": [
      "kl -0.02628428776265701 time 88.99523067474365\n"
     ]
    }
   ],
   "source": [
    "begin = time.time()\n",
    "\n",
    "print('kl',estimate(x, y, k=None, n_jobs=1),'time',time.time()-begin)"
   ]
  },
  {
   "cell_type": "code",
   "execution_count": null,
   "metadata": {},
   "outputs": [],
   "source": []
  },
  {
   "cell_type": "code",
   "execution_count": null,
   "metadata": {},
   "outputs": [],
   "source": []
  },
  {
   "cell_type": "code",
   "execution_count": 8,
   "metadata": {},
   "outputs": [],
   "source": [
    "def nn_kl(x,y, n_neighbors=1):\n",
    "    n = len(x)\n",
    "    m = len(y)\n",
    "    '''\n",
    "    x: samples of the reference density, y: samples approximated distribution\n",
    "    '''\n",
    "    nbrs = NearestNeighbors(n_neighbors=1, algorithm='ball_tree').fit(x)\n",
    "    nu, _ = nbrs.kneighbors(y)\n",
    "    nbrs = NearestNeighbors(n_neighbors=1, algorithm='ball_tree').fit(y)\n",
    "    rau, _ = nbrs.kneighbors(x)\n",
    "    \n",
    "    kl = 2/n * np.sum(np.log(nu/rau))+np.log(m/n-1)\n",
    "    return np.mean((distances))\n"
   ]
  },
  {
   "cell_type": "code",
   "execution_count": 18,
   "metadata": {},
   "outputs": [],
   "source": [
    "n = len(x)\n",
    "m = len(y)\n",
    "nbrs = NearestNeighbors(n_neighbors=1, algorithm='ball_tree').fit(x)\n",
    "nu, _ = nbrs.kneighbors(y)\n",
    "nbrs = NearestNeighbors(n_neighbors=1, algorithm='ball_tree').fit(y)\n",
    "rau, _ = nbrs.kneighbors(x)\n"
   ]
  },
  {
   "cell_type": "code",
   "execution_count": 15,
   "metadata": {},
   "outputs": [
    {
     "data": {
      "text/plain": [
       "(100, 1)"
      ]
     },
     "execution_count": 15,
     "metadata": {},
     "output_type": "execute_result"
    }
   ],
   "source": [
    "rau.shape"
   ]
  },
  {
   "cell_type": "code",
   "execution_count": 16,
   "metadata": {},
   "outputs": [
    {
     "data": {
      "text/plain": [
       "(4000, 1)"
      ]
     },
     "execution_count": 16,
     "metadata": {},
     "output_type": "execute_result"
    }
   ],
   "source": [
    "nu.shape"
   ]
  },
  {
   "cell_type": "code",
   "execution_count": 2,
   "metadata": {},
   "outputs": [],
   "source": [
    "import numpy as np"
   ]
  },
  {
   "cell_type": "code",
   "execution_count": 4,
   "metadata": {},
   "outputs": [
    {
     "data": {
      "text/plain": [
       "array([0. , 0.5, 1. ])"
      ]
     },
     "execution_count": 4,
     "metadata": {},
     "output_type": "execute_result"
    }
   ],
   "source": [
    "np.load('testouille.npy')"
   ]
  },
  {
   "cell_type": "code",
   "execution_count": null,
   "metadata": {},
   "outputs": [],
   "source": []
  }
 ],
 "metadata": {
  "kernelspec": {
   "display_name": "Python [conda env:tensorflow-1.5]",
   "language": "python",
   "name": "conda-env-tensorflow-1.5-py"
  },
  "language_info": {
   "codemirror_mode": {
    "name": "ipython",
    "version": 3
   },
   "file_extension": ".py",
   "mimetype": "text/x-python",
   "name": "python",
   "nbconvert_exporter": "python",
   "pygments_lexer": "ipython3",
   "version": "3.5.5"
  }
 },
 "nbformat": 4,
 "nbformat_minor": 2
}
